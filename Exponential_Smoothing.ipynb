{
  "nbformat": 4,
  "nbformat_minor": 0,
  "metadata": {
    "colab": {
      "provenance": []
    },
    "kernelspec": {
      "name": "python3",
      "display_name": "Python 3"
    },
    "language_info": {
      "name": "python"
    }
  },
  "cells": [
    {
      "cell_type": "code",
      "source": [
        "from google.colab import drive\n",
        "drive.mount('/content/drive')"
      ],
      "metadata": {
        "colab": {
          "base_uri": "https://localhost:8080/"
        },
        "id": "IRh9_DER4_4w",
        "outputId": "6b228357-a49b-465c-d54d-4886d4e717de"
      },
      "execution_count": null,
      "outputs": [
        {
          "output_type": "stream",
          "name": "stdout",
          "text": [
            "Mounted at /content/drive\n"
          ]
        }
      ]
    },
    {
      "cell_type": "code",
      "source": [
        "import pandas as pd\n",
        "import numpy as np\n",
        "import matplotlib.pyplot as plt\n",
        "ds = pd.read_csv('/content/drive/MyDrive/skripsi/dataset/data.csv')\n",
        "print(ds)\n",
        "\n"
      ],
      "metadata": {
        "colab": {
          "base_uri": "https://localhost:8080/"
        },
        "id": "POQ4b9J6463g",
        "outputId": "4a34a3b1-e927-400f-dacd-5464e420f42d"
      },
      "execution_count": null,
      "outputs": [
        {
          "output_type": "stream",
          "name": "stdout",
          "text": [
            "               Tanggal;total_precipitation\n",
            "Jan 1 2017;0                             1\n",
            "Jan 2 2017;0                            12\n",
            "Jan 3 2017;0                             2\n",
            "Jan 4 2017;0                            16\n",
            "Jan 5 2017;0                            14\n",
            "Jan 6 2017;0                             2\n",
            "Jan 7 2017;0                             3\n",
            "Jan 8 2017;0                             3\n",
            "Jan 9 2017;0                            18\n",
            "Jan 10 2017;0                           12\n",
            "Jan 11 2017;0                            5\n",
            "Jan 12 2017;0                            2\n",
            "Jan 13 2017;0                            4\n",
            "Jan 14 2017;0                           21\n",
            "Jan 15 2017;0                            1\n",
            "Jan 16 2017;0                            8\n",
            "Jan 17 2017;0                            6\n",
            "Jan 18 2017;0                            6\n",
            "Jan 19 2017;0                           12\n",
            "Jan 20 2017;0                            7\n",
            "Jan 21 2017;0                           12\n",
            "Jan 22 2017;0                           18\n",
            "Jan 23 2017;0                           11\n",
            "Jan 24 2017;0                           15\n",
            "Jan 25 2017;0                           12\n",
            "Jan 26 2017;0                            2\n",
            "Jan 27 2017;0                            7\n",
            "Jan 28 2017;0                            6\n",
            "Jan 29 2017;0                           12\n"
          ]
        }
      ]
    },
    {
      "cell_type": "code",
      "execution_count": 14,
      "metadata": {
        "colab": {
          "base_uri": "https://localhost:8080/"
        },
        "id": "K8Tlefo022-1",
        "outputId": "5a723755-e813-4644-d1a9-f8a9719b66ad"
      },
      "outputs": [
        {
          "output_type": "stream",
          "name": "stdout",
          "text": [
            "29     8.833235\n",
            "30    10.972097\n",
            "31    11.072161\n",
            "32     9.155447\n",
            "33    11.294309\n",
            "34    11.394373\n",
            "35     9.477659\n",
            "36    11.616521\n",
            "37    11.716585\n",
            "38     9.799871\n",
            "39    11.938732\n",
            "40    12.038797\n",
            "41    10.122082\n",
            "42    12.260944\n",
            "43    12.361009\n",
            "44    10.444294\n",
            "45    12.583156\n",
            "46    12.683221\n",
            "47    10.766506\n",
            "48    12.905368\n",
            "49    13.005433\n",
            "50    11.088718\n",
            "51    13.227580\n",
            "52    13.327645\n",
            "53    11.410930\n",
            "54    13.549792\n",
            "55    13.649857\n",
            "56    11.733142\n",
            "57    13.872004\n",
            "dtype: float64\n"
          ]
        },
        {
          "output_type": "stream",
          "name": "stderr",
          "text": [
            "/usr/local/lib/python3.8/dist-packages/statsmodels/tsa/base/tsa_model.py:578: ValueWarning: An unsupported index was provided and will be ignored when e.g. forecasting.\n",
            "  warnings.warn('An unsupported index was provided and will be'\n",
            "/usr/local/lib/python3.8/dist-packages/statsmodels/tsa/holtwinters/model.py:427: FutureWarning: After 0.13 initialization must be handled at model creation\n",
            "  warnings.warn(\n",
            "/usr/local/lib/python3.8/dist-packages/statsmodels/tsa/base/tsa_model.py:376: ValueWarning: No supported index is available. Prediction results will be given with an integer index beginning at `start`.\n",
            "  warnings.warn('No supported index is available.'\n"
          ]
        }
      ],
      "source": [
        "from statsmodels.tsa.holtwinters import ExponentialSmoothing\n",
        "fit1 = ExponentialSmoothing(ds['Tanggal;total_precipitation'], seasonal_periods=3, trend = 'add', seasonal = 'add').fit()\n",
        "fcast1 = fit1.forecast(len(ds['Tanggal;total_precipitation']))\n",
        "print(fcast1)"
      ]
    },
    {
      "cell_type": "code",
      "source": [
        "import matplotlib.pyplot as plt\n",
        "a=range(len(ds))\n",
        "plt.scatter(a,ds['Tanggal;total_precipitation'], color = 'navy')\n",
        "\n",
        "plt.plot(a,ds['Tanggal;total_precipitation'], color = 'green')\n",
        "plt.title('Prediksi Curah Hujan di Brebes')\n",
        "plt.xlabel('Data ke-')\n",
        "plt.ylabel('Curah Hujan')\n",
        "plt.show()"
      ],
      "metadata": {
        "colab": {
          "base_uri": "https://localhost:8080/",
          "height": 295
        },
        "id": "txhOoyw7-JlM",
        "outputId": "d93a0cb3-68f2-4d26-c9ee-648088ec275b"
      },
      "execution_count": 20,
      "outputs": [
        {
          "output_type": "display_data",
          "data": {
            "text/plain": [
              "<Figure size 432x288 with 1 Axes>"
            ],
            "image/png": "[encoded data removed]"
          },
          "metadata": {
            "needs_background": "light"
          }
        }
      ]
    }
  ]
}