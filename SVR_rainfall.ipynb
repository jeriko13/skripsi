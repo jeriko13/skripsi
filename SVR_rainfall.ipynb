{
  "nbformat": 4,
  "nbformat_minor": 0,
  "metadata": {
    "colab": {
      "provenance": [],
      "authorship_tag": "ABX9TyMft3aivS7UcO0+gUrm7ppF"
    },
    "kernelspec": {
      "name": "python3",
      "display_name": "Python 3"
    },
    "language_info": {
      "name": "python"
    }
  },
  "cells": [
    {
      "cell_type": "code",
      "execution_count": 63,
      "metadata": {
        "id": "q8KwRG5Y4hMy"
      },
      "outputs": [],
      "source": [
        "#Import the libraries\n",
        "from sklearn.svm import SVR\n",
        "import numpy as np\n",
        "import pandas as pd\n",
        "import matplotlib.pyplot as plt\n",
        "plt.style.use('seaborn-darkgrid')"
      ]
    },
    {
      "cell_type": "code",
      "source": [
        "from google.colab import drive #Import Data dari google Drive\n",
        "drive.mount('/content/drive')"
      ],
      "metadata": {
        "colab": {
          "base_uri": "https://localhost:8080/"
        },
        "id": "6SkLqpXY4yrK",
        "outputId": "b9f86aee-cebb-4711-d26a-370351326244"
      },
      "execution_count": 64,
      "outputs": [
        {
          "output_type": "stream",
          "name": "stdout",
          "text": [
            "Drive already mounted at /content/drive; to attempt to forcibly remount, call drive.mount(\"/content/drive\", force_remount=True).\n"
          ]
        }
      ]
    },
    {
      "cell_type": "code",
      "source": [
        "#Load the data\n",
        "#from google.colab import files # Use to load data on Google Colab\n",
        "#uploaded = files.upload() # Use to load data on Google Colab\n",
        "#Import Library yang dibutuhkan\n",
        "import pandas as pd #import Library\n",
        "import numpy as np #Matrix multiplication,\n",
        "import matplotlib.pyplot as plt\n",
        "from sklearn.model_selection import train_test_split\n",
        "from sklearn.preprocessing import StandardScaler\n",
        "from sklearn.linear_model import LogisticRegression\n",
        "#from sklearn.tree import DecisionTreeClassifier\n",
        "#from sklearn.ensemble import RandomForestClassifier\n",
        "from sklearn.svm import SVC\n",
        "from sklearn import svm\n",
        "from sklearn.metrics import mean_squared_error, accuracy_score, confusion_matrix\n",
        "\n",
        "df = pd.read_csv('/content/drive/MyDrive/skripsi/dataset/ds-curah-hujan.csv' ,header=0, sep=';', names=['date', 'dewpoint', 'temperature', 'rainfall']) #membaca DataSet\n",
        "#df.columns = ['tanggal', 'dewpoint', 'temperature', 'precipitation']\n",
        "df.info()\n",
        "df.head()\n",
        "\n",
        "#print(df)\n"
      ],
      "metadata": {
        "colab": {
          "base_uri": "https://localhost:8080/",
          "height": 397
        },
        "id": "07_HO4IU5AfB",
        "outputId": "e349990c-c0e7-4ec4-ae3f-cd06ef1f8852"
      },
      "execution_count": 65,
      "outputs": [
        {
          "output_type": "stream",
          "name": "stdout",
          "text": [
            "<class 'pandas.core.frame.DataFrame'>\n",
            "RangeIndex: 1286 entries, 0 to 1285\n",
            "Data columns (total 4 columns):\n",
            " #   Column       Non-Null Count  Dtype \n",
            "---  ------       --------------  ----- \n",
            " 0   date         1286 non-null   object\n",
            " 1   dewpoint     1286 non-null   object\n",
            " 2   temperature  1286 non-null   object\n",
            " 3   rainfall     1286 non-null   object\n",
            "dtypes: object(4)\n",
            "memory usage: 40.3+ KB\n"
          ]
        },
        {
          "output_type": "execute_result",
          "data": {
            "text/plain": [
              "         date dewpoint temperature rainfall\n",
              "0  2017-01-01  297,691     303,931     0,01\n",
              "1  2017-01-02   297,72     303,498    0,012\n",
              "2  2017-01-03  297,736     302,315     0,02\n",
              "3  2017-01-04  297,772     302,133    0,016\n",
              "4  2017-01-05   297,78     302,281    0,014"
            ],
            "text/html": [
              "\n",
              "  <div id=\"df-04bc74ee-89ad-4d84-ab09-33f2d9c6d9b2\">\n",
              "    <div class=\"colab-df-container\">\n",
              "      <div>\n",
              "<style scoped>\n",
              "    .dataframe tbody tr th:only-of-type {\n",
              "        vertical-align: middle;\n",
              "    }\n",
              "\n",
              "    .dataframe tbody tr th {\n",
              "        vertical-align: top;\n",
              "    }\n",
              "\n",
              "    .dataframe thead th {\n",
              "        text-align: right;\n",
              "    }\n",
              "</style>\n",
              "<table border=\"1\" class=\"dataframe\">\n",
              "  <thead>\n",
              "    <tr style=\"text-align: right;\">\n",
              "      <th></th>\n",
              "      <th>date</th>\n",
              "      <th>dewpoint</th>\n",
              "      <th>temperature</th>\n",
              "      <th>rainfall</th>\n",
              "    </tr>\n",
              "  </thead>\n",
              "  <tbody>\n",
              "    <tr>\n",
              "      <th>0</th>\n",
              "      <td>2017-01-01</td>\n",
              "      <td>297,691</td>\n",
              "      <td>303,931</td>\n",
              "      <td>0,01</td>\n",
              "    </tr>\n",
              "    <tr>\n",
              "      <th>1</th>\n",
              "      <td>2017-01-02</td>\n",
              "      <td>297,72</td>\n",
              "      <td>303,498</td>\n",
              "      <td>0,012</td>\n",
              "    </tr>\n",
              "    <tr>\n",
              "      <th>2</th>\n",
              "      <td>2017-01-03</td>\n",
              "      <td>297,736</td>\n",
              "      <td>302,315</td>\n",
              "      <td>0,02</td>\n",
              "    </tr>\n",
              "    <tr>\n",
              "      <th>3</th>\n",
              "      <td>2017-01-04</td>\n",
              "      <td>297,772</td>\n",
              "      <td>302,133</td>\n",
              "      <td>0,016</td>\n",
              "    </tr>\n",
              "    <tr>\n",
              "      <th>4</th>\n",
              "      <td>2017-01-05</td>\n",
              "      <td>297,78</td>\n",
              "      <td>302,281</td>\n",
              "      <td>0,014</td>\n",
              "    </tr>\n",
              "  </tbody>\n",
              "</table>\n",
              "</div>\n",
              "      <button class=\"colab-df-convert\" onclick=\"convertToInteractive('df-04bc74ee-89ad-4d84-ab09-33f2d9c6d9b2')\"\n",
              "              title=\"Convert this dataframe to an interactive table.\"\n",
              "              style=\"display:none;\">\n",
              "        \n",
              "  <svg xmlns=\"http://www.w3.org/2000/svg\" height=\"24px\"viewBox=\"0 0 24 24\"\n",
              "       width=\"24px\">\n",
              "    <path d=\"M0 0h24v24H0V0z\" fill=\"none\"/>\n",
              "    <path d=\"M18.56 5.44l.94 2.06.94-2.06 2.06-.94-2.06-.94-.94-2.06-.94 2.06-2.06.94zm-11 1L8.5 8.5l.94-2.06 2.06-.94-2.06-.94L8.5 2.5l-.94 2.06-2.06.94zm10 10l.94 2.06.94-2.06 2.06-.94-2.06-.94-.94-2.06-.94 2.06-2.06.94z\"/><path d=\"M17.41 7.96l-1.37-1.37c-.4-.4-.92-.59-1.43-.59-.52 0-1.04.2-1.43.59L10.3 9.45l-7.72 7.72c-.78.78-.78 2.05 0 2.83L4 21.41c.39.39.9.59 1.41.59.51 0 1.02-.2 1.41-.59l7.78-7.78 2.81-2.81c.8-.78.8-2.07 0-2.86zM5.41 20L4 18.59l7.72-7.72 1.47 1.35L5.41 20z\"/>\n",
              "  </svg>\n",
              "      </button>\n",
              "      \n",
              "  <style>\n",
              "    .colab-df-container {\n",
              "      display:flex;\n",
              "      flex-wrap:wrap;\n",
              "      gap: 12px;\n",
              "    }\n",
              "\n",
              "    .colab-df-convert {\n",
              "      background-color: #E8F0FE;\n",
              "      border: none;\n",
              "      border-radius: 50%;\n",
              "      cursor: pointer;\n",
              "      display: none;\n",
              "      fill: #1967D2;\n",
              "      height: 32px;\n",
              "      padding: 0 0 0 0;\n",
              "      width: 32px;\n",
              "    }\n",
              "\n",
              "    .colab-df-convert:hover {\n",
              "      background-color: #E2EBFA;\n",
              "      box-shadow: 0px 1px 2px rgba(60, 64, 67, 0.3), 0px 1px 3px 1px rgba(60, 64, 67, 0.15);\n",
              "      fill: #174EA6;\n",
              "    }\n",
              "\n",
              "    [theme=dark] .colab-df-convert {\n",
              "      background-color: #3B4455;\n",
              "      fill: #D2E3FC;\n",
              "    }\n",
              "\n",
              "    [theme=dark] .colab-df-convert:hover {\n",
              "      background-color: #434B5C;\n",
              "      box-shadow: 0px 1px 3px 1px rgba(0, 0, 0, 0.15);\n",
              "      filter: drop-shadow(0px 1px 2px rgba(0, 0, 0, 0.3));\n",
              "      fill: #FFFFFF;\n",
              "    }\n",
              "  </style>\n",
              "\n",
              "      <script>\n",
              "        const buttonEl =\n",
              "          document.querySelector('#df-04bc74ee-89ad-4d84-ab09-33f2d9c6d9b2 button.colab-df-convert');\n",
              "        buttonEl.style.display =\n",
              "          google.colab.kernel.accessAllowed ? 'block' : 'none';\n",
              "\n",
              "        async function convertToInteractive(key) {\n",
              "          const element = document.querySelector('#df-04bc74ee-89ad-4d84-ab09-33f2d9c6d9b2');\n",
              "          const dataTable =\n",
              "            await google.colab.kernel.invokeFunction('convertToInteractive',\n",
              "                                                     [key], {});\n",
              "          if (!dataTable) return;\n",
              "\n",
              "          const docLinkHtml = 'Like what you see? Visit the ' +\n",
              "            '<a target=\"_blank\" href=https://colab.research.google.com/notebooks/data_table.ipynb>data table notebook</a>'\n",
              "            + ' to learn more about interactive tables.';\n",
              "          element.innerHTML = '';\n",
              "          dataTable['output_type'] = 'display_data';\n",
              "          await google.colab.output.renderOutput(dataTable, element);\n",
              "          const docLink = document.createElement('div');\n",
              "          docLink.innerHTML = docLinkHtml;\n",
              "          element.appendChild(docLink);\n",
              "        }\n",
              "      </script>\n",
              "    </div>\n",
              "  </div>\n",
              "  "
            ]
          },
          "metadata": {},
          "execution_count": 65
        }
      ]
    },
    {
      "cell_type": "code",
      "source": [
        "#menghapus data yang kosong\n",
        "df = df.dropna()\n"
      ],
      "metadata": {
        "id": "Wfd_fOjO4yos"
      },
      "execution_count": 30,
      "outputs": []
    },
    {
      "cell_type": "code",
      "source": [
        "#Mengubah data Object ke Numerik\n",
        "from sklearn import preprocessing\n",
        "le = preprocessing.LabelEncoder()\n",
        "df['date']=le.fit_transform(df['date'])\n",
        "df['dewpoint']=le.fit_transform(df['dewpoint'])\n",
        "df['temperature']=le.fit_transform(df['temperature'])\n",
        "df['rainfall']=le.fit_transform(df['rainfall'])"
      ],
      "metadata": {
        "id": "LIA2ClJZ6EkY"
      },
      "execution_count": 66,
      "outputs": []
    },
    {
      "cell_type": "code",
      "source": [
        "#cek data\n",
        "df.info()"
      ],
      "metadata": {
        "colab": {
          "base_uri": "https://localhost:8080/"
        },
        "id": "9re6JcGB6R9l",
        "outputId": "b31c5c70-e33a-44eb-fc67-60be25e3ff4e"
      },
      "execution_count": 67,
      "outputs": [
        {
          "output_type": "stream",
          "name": "stdout",
          "text": [
            "<class 'pandas.core.frame.DataFrame'>\n",
            "RangeIndex: 1286 entries, 0 to 1285\n",
            "Data columns (total 4 columns):\n",
            " #   Column       Non-Null Count  Dtype\n",
            "---  ------       --------------  -----\n",
            " 0   date         1286 non-null   int64\n",
            " 1   dewpoint     1286 non-null   int64\n",
            " 2   temperature  1286 non-null   int64\n",
            " 3   rainfall     1286 non-null   int64\n",
            "dtypes: int64(4)\n",
            "memory usage: 40.3 KB\n"
          ]
        }
      ]
    },
    {
      "cell_type": "code",
      "source": [
        "#Membagi data, Data Test dan Data Training\n",
        "from sklearn.model_selection import train_test_split\n",
        "#membagi semua baris, semua kolom\n",
        "x=df.iloc[:,:-1].values\n",
        "#membagi semua baris, kolom terakhir\n",
        "y=df.iloc[:,-1].values\n",
        "print(x.shape)"
      ],
      "metadata": {
        "colab": {
          "base_uri": "https://localhost:8080/"
        },
        "id": "Pkgj75uU7G_n",
        "outputId": "74e35b98-b45c-4fab-e05a-247bced51dbb"
      },
      "execution_count": 69,
      "outputs": [
        {
          "output_type": "stream",
          "name": "stdout",
          "text": [
            "(1286, 3)\n"
          ]
        }
      ]
    },
    {
      "cell_type": "code",
      "source": [
        "#data yang telah dibagi disimpan dalam variable\n",
        "xtrain,xtest,ytrain,ytest=train_test_split(x,y,train_size=0.9,random_state=42)"
      ],
      "metadata": {
        "id": "rXstODTC7Ha7"
      },
      "execution_count": 70,
      "outputs": []
    },
    {
      "cell_type": "code",
      "source": [
        "#menggunakan kernel linear untuk prediksi data training\n",
        "from sklearn.svm import SVR\n",
        "\n",
        "svr=SVR(kernel='linear')\n",
        "svr.fit(xtrain,ytrain)"
      ],
      "metadata": {
        "colab": {
          "base_uri": "https://localhost:8080/"
        },
        "id": "ogaAasJ08RWk",
        "outputId": "bc6f6f75-469b-44f8-f226-6ab1a7cf35b6"
      },
      "execution_count": 59,
      "outputs": [
        {
          "output_type": "execute_result",
          "data": {
            "text/plain": [
              "SVR(kernel='linear')"
            ]
          },
          "metadata": {},
          "execution_count": 59
        }
      ]
    },
    {
      "cell_type": "code",
      "source": [
        "#Memanggil hasil prediksi data test\n",
        "hasil=svr.predict(xtest)"
      ],
      "metadata": {
        "id": "dPARxklX-Wnt"
      },
      "execution_count": 71,
      "outputs": []
    },
    {
      "cell_type": "code",
      "source": [
        "#Perhitungan Prediksi menggunakan SVR\n",
        "from sklearn.metrics import r2_score\n",
        "\n",
        "coef=r2_score(ytest,hasil)\n",
        "coef"
      ],
      "metadata": {
        "colab": {
          "base_uri": "https://localhost:8080/"
        },
        "id": "HwE5EIbs8fOA",
        "outputId": "78c2f64f-6046-4969-f359-140e62b0d9be"
      },
      "execution_count": 74,
      "outputs": [
        {
          "output_type": "execute_result",
          "data": {
            "text/plain": [
              "0.27596790645412717"
            ]
          },
          "metadata": {},
          "execution_count": 74
        }
      ]
    },
    {
      "cell_type": "code",
      "source": [
        "#melakukan import data untuk menghitung manual apakah sesuai dengan perhitungan Mesin\n",
        "import csv\n",
        "\n",
        "xt=pd.DataFrame(xtest)\n",
        "yt=pd.DataFrame(ytest)\n",
        "yp=pd.DataFrame(hasil)\n",
        "\n",
        "xt.to_csv(\"x.csv\")\n",
        "yt.to_csv(\"y.csv\")\n",
        "yt.to_csv(\"prediksi.csv\")"
      ],
      "metadata": {
        "id": "ag1i3qdS8Rbs"
      },
      "execution_count": 75,
      "outputs": []
    },
    {
      "cell_type": "code",
      "source": [
        "#Menampilkan Grafik\n",
        "import matplotlib.pyplot as plt\n",
        "plt.figure(figsize=(8,4))\n",
        "plt.scatter(ytest, hasil, color='navy', label='Data')\n",
        "plt.scatter(range(len(xtest)),ytest,color='blue')\n",
        "plt.scatter(range(len(xtest)),hasil,color='green')\n",
        "plt.xlabel('Train')\n",
        "plt.ylabel('Prediction')\n",
        "plt.title('Prediction with Support Vector Regression')\n",
        "plt.legend()\n",
        "plt.show()"
      ],
      "metadata": {
        "colab": {
          "base_uri": "https://localhost:8080/",
          "height": 291
        },
        "id": "rZ0Cz5C0-LeP",
        "outputId": "9e1d804d-41e4-44e7-a314-e4f367b93043"
      },
      "execution_count": 79,
      "outputs": [
        {
          "output_type": "display_data",
          "data": {
            "text/plain": [
              "<Figure size 576x288 with 1 Axes>"
            ],
            "image/png": "[encoded data removed]"
          },
          "metadata": {}
        }
      ]
    }
  ]
}