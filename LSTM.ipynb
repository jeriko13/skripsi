{
  "nbformat": 4,
  "nbformat_minor": 0,
  "metadata": {
    "colab": {
      "provenance": []
    },
    "kernelspec": {
      "name": "python3",
      "display_name": "Python 3"
    },
    "language_info": {
      "name": "python"
    }
  },
  "cells": [
    {
      "cell_type": "code",
      "execution_count": 99,
      "metadata": {
        "colab": {
          "base_uri": "https://localhost:8080/"
        },
        "id": "pq3vKGvhGahd",
        "outputId": "5375ad39-ac05-4d77-8554-15438d90436a"
      },
      "outputs": [
        {
          "output_type": "stream",
          "name": "stdout",
          "text": [
            "Drive already mounted at /content/drive; to attempt to forcibly remount, call drive.mount(\"/content/drive\", force_remount=True).\n"
          ]
        }
      ],
      "source": [
        "from google.colab import drive #Import Data dari google Drive\n",
        "drive.mount('/content/drive')"
      ]
    },
    {
      "cell_type": "code",
      "source": [
        "import pandas as pd #import Library\n",
        "import numpy as np\n",
        "import matplotlib.pyplot as plt\n",
        "ds = pd.read_csv('/content/drive/MyDrive/skripsi/dataset/rainfall.csv' , header=0 , names=['tanggal', 'dewpoint', 'temperature', 'precipitation']) #membaca DataSet\n",
        "#ds.columns = ['tanggal', 'dewpoint', 'temperature', 'precipitation']\n",
        "ds.info()\n",
        "ds.head()\n"
      ],
      "metadata": {
        "colab": {
          "base_uri": "https://localhost:8080/",
          "height": 397
        },
        "id": "tFcIZIpEIb9Y",
        "outputId": "f9e40585-5d00-4782-9ee0-cc8b4d5cbe3f"
      },
      "execution_count": 100,
      "outputs": [
        {
          "output_type": "stream",
          "name": "stdout",
          "text": [
            "<class 'pandas.core.frame.DataFrame'>\n",
            "RangeIndex: 129 entries, 0 to 128\n",
            "Data columns (total 4 columns):\n",
            " #   Column         Non-Null Count  Dtype \n",
            "---  ------         --------------  ----- \n",
            " 0   tanggal        129 non-null    object\n",
            " 1   dewpoint       129 non-null    object\n",
            " 2   temperature    129 non-null    object\n",
            " 3   precipitation  129 non-null    int64 \n",
            "dtypes: int64(1), object(3)\n",
            "memory usage: 4.2+ KB\n"
          ]
        },
        {
          "output_type": "execute_result",
          "data": {
            "text/plain": [
              "          tanggal dewpoint temperature  precipitation\n",
              "0  Jan 1 2017;297  691;303       931;0              1\n",
              "1  Jan 2 2017;297   72;303       498;0             12\n",
              "2  Jan 3 2017;297  736;302       315;0              2\n",
              "3  Jan 4 2017;297  772;302       133;0             16\n",
              "4  Jan 5 2017;297   78;302       281;0             14"
            ],
            "text/html": [
              "\n",
              "  <div id=\"df-d4451e04-3b35-497c-990a-814a5bf857f8\">\n",
              "    <div class=\"colab-df-container\">\n",
              "      <div>\n",
              "<style scoped>\n",
              "    .dataframe tbody tr th:only-of-type {\n",
              "        vertical-align: middle;\n",
              "    }\n",
              "\n",
              "    .dataframe tbody tr th {\n",
              "        vertical-align: top;\n",
              "    }\n",
              "\n",
              "    .dataframe thead th {\n",
              "        text-align: right;\n",
              "    }\n",
              "</style>\n",
              "<table border=\"1\" class=\"dataframe\">\n",
              "  <thead>\n",
              "    <tr style=\"text-align: right;\">\n",
              "      <th></th>\n",
              "      <th>tanggal</th>\n",
              "      <th>dewpoint</th>\n",
              "      <th>temperature</th>\n",
              "      <th>precipitation</th>\n",
              "    </tr>\n",
              "  </thead>\n",
              "  <tbody>\n",
              "    <tr>\n",
              "      <th>0</th>\n",
              "      <td>Jan 1 2017;297</td>\n",
              "      <td>691;303</td>\n",
              "      <td>931;0</td>\n",
              "      <td>1</td>\n",
              "    </tr>\n",
              "    <tr>\n",
              "      <th>1</th>\n",
              "      <td>Jan 2 2017;297</td>\n",
              "      <td>72;303</td>\n",
              "      <td>498;0</td>\n",
              "      <td>12</td>\n",
              "    </tr>\n",
              "    <tr>\n",
              "      <th>2</th>\n",
              "      <td>Jan 3 2017;297</td>\n",
              "      <td>736;302</td>\n",
              "      <td>315;0</td>\n",
              "      <td>2</td>\n",
              "    </tr>\n",
              "    <tr>\n",
              "      <th>3</th>\n",
              "      <td>Jan 4 2017;297</td>\n",
              "      <td>772;302</td>\n",
              "      <td>133;0</td>\n",
              "      <td>16</td>\n",
              "    </tr>\n",
              "    <tr>\n",
              "      <th>4</th>\n",
              "      <td>Jan 5 2017;297</td>\n",
              "      <td>78;302</td>\n",
              "      <td>281;0</td>\n",
              "      <td>14</td>\n",
              "    </tr>\n",
              "  </tbody>\n",
              "</table>\n",
              "</div>\n",
              "      <button class=\"colab-df-convert\" onclick=\"convertToInteractive('df-d4451e04-3b35-497c-990a-814a5bf857f8')\"\n",
              "              title=\"Convert this dataframe to an interactive table.\"\n",
              "              style=\"display:none;\">\n",
              "        \n",
              "  <svg xmlns=\"http://www.w3.org/2000/svg\" height=\"24px\"viewBox=\"0 0 24 24\"\n",
              "       width=\"24px\">\n",
              "    <path d=\"M0 0h24v24H0V0z\" fill=\"none\"/>\n",
              "    <path d=\"M18.56 5.44l.94 2.06.94-2.06 2.06-.94-2.06-.94-.94-2.06-.94 2.06-2.06.94zm-11 1L8.5 8.5l.94-2.06 2.06-.94-2.06-.94L8.5 2.5l-.94 2.06-2.06.94zm10 10l.94 2.06.94-2.06 2.06-.94-2.06-.94-.94-2.06-.94 2.06-2.06.94z\"/><path d=\"M17.41 7.96l-1.37-1.37c-.4-.4-.92-.59-1.43-.59-.52 0-1.04.2-1.43.59L10.3 9.45l-7.72 7.72c-.78.78-.78 2.05 0 2.83L4 21.41c.39.39.9.59 1.41.59.51 0 1.02-.2 1.41-.59l7.78-7.78 2.81-2.81c.8-.78.8-2.07 0-2.86zM5.41 20L4 18.59l7.72-7.72 1.47 1.35L5.41 20z\"/>\n",
              "  </svg>\n",
              "      </button>\n",
              "      \n",
              "  <style>\n",
              "    .colab-df-container {\n",
              "      display:flex;\n",
              "      flex-wrap:wrap;\n",
              "      gap: 12px;\n",
              "    }\n",
              "\n",
              "    .colab-df-convert {\n",
              "      background-color: #E8F0FE;\n",
              "      border: none;\n",
              "      border-radius: 50%;\n",
              "      cursor: pointer;\n",
              "      display: none;\n",
              "      fill: #1967D2;\n",
              "      height: 32px;\n",
              "      padding: 0 0 0 0;\n",
              "      width: 32px;\n",
              "    }\n",
              "\n",
              "    .colab-df-convert:hover {\n",
              "      background-color: #E2EBFA;\n",
              "      box-shadow: 0px 1px 2px rgba(60, 64, 67, 0.3), 0px 1px 3px 1px rgba(60, 64, 67, 0.15);\n",
              "      fill: #174EA6;\n",
              "    }\n",
              "\n",
              "    [theme=dark] .colab-df-convert {\n",
              "      background-color: #3B4455;\n",
              "      fill: #D2E3FC;\n",
              "    }\n",
              "\n",
              "    [theme=dark] .colab-df-convert:hover {\n",
              "      background-color: #434B5C;\n",
              "      box-shadow: 0px 1px 3px 1px rgba(0, 0, 0, 0.15);\n",
              "      filter: drop-shadow(0px 1px 2px rgba(0, 0, 0, 0.3));\n",
              "      fill: #FFFFFF;\n",
              "    }\n",
              "  </style>\n",
              "\n",
              "      <script>\n",
              "        const buttonEl =\n",
              "          document.querySelector('#df-d4451e04-3b35-497c-990a-814a5bf857f8 button.colab-df-convert');\n",
              "        buttonEl.style.display =\n",
              "          google.colab.kernel.accessAllowed ? 'block' : 'none';\n",
              "\n",
              "        async function convertToInteractive(key) {\n",
              "          const element = document.querySelector('#df-d4451e04-3b35-497c-990a-814a5bf857f8');\n",
              "          const dataTable =\n",
              "            await google.colab.kernel.invokeFunction('convertToInteractive',\n",
              "                                                     [key], {});\n",
              "          if (!dataTable) return;\n",
              "\n",
              "          const docLinkHtml = 'Like what you see? Visit the ' +\n",
              "            '<a target=\"_blank\" href=https://colab.research.google.com/notebooks/data_table.ipynb>data table notebook</a>'\n",
              "            + ' to learn more about interactive tables.';\n",
              "          element.innerHTML = '';\n",
              "          dataTable['output_type'] = 'display_data';\n",
              "          await google.colab.output.renderOutput(dataTable, element);\n",
              "          const docLink = document.createElement('div');\n",
              "          docLink.innerHTML = docLinkHtml;\n",
              "          element.appendChild(docLink);\n",
              "        }\n",
              "      </script>\n",
              "    </div>\n",
              "  </div>\n",
              "  "
            ]
          },
          "metadata": {},
          "execution_count": 100
        }
      ]
    },
    {
      "cell_type": "code",
      "source": [
        "xt = ds.reset_index() ['precipitation']\n",
        "print(xt)\n",
        "print(len(xt))\n",
        "print(xt.shape)\n"
      ],
      "metadata": {
        "colab": {
          "base_uri": "https://localhost:8080/"
        },
        "id": "i_gfvFH_KMgS",
        "outputId": "7ab5f433-981a-42bd-a7ae-918afcab46b3"
      },
      "execution_count": 101,
      "outputs": [
        {
          "output_type": "stream",
          "name": "stdout",
          "text": [
            "0       1\n",
            "1      12\n",
            "2       2\n",
            "3      16\n",
            "4      14\n",
            "       ..\n",
            "124     7\n",
            "125     6\n",
            "126     7\n",
            "127     4\n",
            "128     7\n",
            "Name: precipitation, Length: 129, dtype: int64\n",
            "129\n",
            "(129,)\n"
          ]
        }
      ]
    },
    {
      "cell_type": "code",
      "source": [
        "print(np.array(xt).reshape(-1,1))\n",
        "\n",
        "# Membuat array numpy dari list\n",
        "#xt = [1, 2, 3, 4, 5]\n",
        "\n",
        "# Menampilkan array numpy dengan reshape\n",
        "#print(np.array(xt).reshape(-1,1))\n"
      ],
      "metadata": {
        "colab": {
          "base_uri": "https://localhost:8080/"
        },
        "id": "wCuJnBkfVQLD",
        "outputId": "79736584-44cd-40ff-ef01-5eaaff008a8d"
      },
      "execution_count": 102,
      "outputs": [
        {
          "output_type": "stream",
          "name": "stdout",
          "text": [
            "[[ 1]\n",
            " [12]\n",
            " [ 2]\n",
            " [16]\n",
            " [14]\n",
            " [ 2]\n",
            " [ 3]\n",
            " [ 3]\n",
            " [18]\n",
            " [12]\n",
            " [ 5]\n",
            " [ 2]\n",
            " [ 4]\n",
            " [21]\n",
            " [ 1]\n",
            " [ 8]\n",
            " [ 6]\n",
            " [ 6]\n",
            " [12]\n",
            " [ 7]\n",
            " [12]\n",
            " [18]\n",
            " [11]\n",
            " [15]\n",
            " [12]\n",
            " [ 2]\n",
            " [ 7]\n",
            " [ 6]\n",
            " [12]\n",
            " [ 2]\n",
            " [ 1]\n",
            " [16]\n",
            " [ 5]\n",
            " [ 6]\n",
            " [14]\n",
            " [ 2]\n",
            " [ 5]\n",
            " [ 6]\n",
            " [ 7]\n",
            " [15]\n",
            " [18]\n",
            " [15]\n",
            " [ 4]\n",
            " [32]\n",
            " [15]\n",
            " [15]\n",
            " [ 4]\n",
            " [ 9]\n",
            " [ 4]\n",
            " [11]\n",
            " [ 6]\n",
            " [11]\n",
            " [ 7]\n",
            " [ 2]\n",
            " [ 7]\n",
            " [18]\n",
            " [ 4]\n",
            " [31]\n",
            " [ 2]\n",
            " [21]\n",
            " [17]\n",
            " [ 8]\n",
            " [ 7]\n",
            " [ 3]\n",
            " [18]\n",
            " [13]\n",
            " [ 1]\n",
            " [ 3]\n",
            " [ 2]\n",
            " [ 8]\n",
            " [ 6]\n",
            " [ 3]\n",
            " [ 4]\n",
            " [ 2]\n",
            " [ 2]\n",
            " [ 3]\n",
            " [17]\n",
            " [ 9]\n",
            " [11]\n",
            " [11]\n",
            " [ 1]\n",
            " [ 1]\n",
            " [ 3]\n",
            " [ 6]\n",
            " [ 3]\n",
            " [ 1]\n",
            " [ 1]\n",
            " [ 1]\n",
            " [ 6]\n",
            " [ 6]\n",
            " [ 7]\n",
            " [ 8]\n",
            " [13]\n",
            " [ 3]\n",
            " [ 1]\n",
            " [ 1]\n",
            " [ 8]\n",
            " [ 5]\n",
            " [ 8]\n",
            " [ 5]\n",
            " [16]\n",
            " [ 2]\n",
            " [ 8]\n",
            " [ 1]\n",
            " [ 1]\n",
            " [ 1]\n",
            " [ 3]\n",
            " [ 8]\n",
            " [ 7]\n",
            " [18]\n",
            " [12]\n",
            " [13]\n",
            " [ 9]\n",
            " [ 6]\n",
            " [ 5]\n",
            " [ 1]\n",
            " [11]\n",
            " [ 6]\n",
            " [ 2]\n",
            " [ 6]\n",
            " [ 1]\n",
            " [ 6]\n",
            " [ 6]\n",
            " [ 8]\n",
            " [ 7]\n",
            " [ 6]\n",
            " [ 7]\n",
            " [ 4]\n",
            " [ 7]]\n"
          ]
        }
      ]
    },
    {
      "cell_type": "code",
      "source": [
        "ds = np.array(xt).reshape(-1,1)\n",
        "print(ds.shape)"
      ],
      "metadata": {
        "id": "sOhB1soiYOuW",
        "colab": {
          "base_uri": "https://localhost:8080/"
        },
        "outputId": "4afbe6e9-e6f3-499e-b5fe-5224fe0756b3"
      },
      "execution_count": 103,
      "outputs": [
        {
          "output_type": "stream",
          "name": "stdout",
          "text": [
            "(129, 1)\n"
          ]
        }
      ]
    },
    {
      "cell_type": "code",
      "source": [
        "train_data,test_data"
      ],
      "metadata": {
        "colab": {
          "base_uri": "https://localhost:8080/"
        },
        "id": "KhGZ8mcvbOkz",
        "outputId": "9d1ea17e-7f16-458d-d10a-a4c0b088d49b"
      },
      "execution_count": 104,
      "outputs": [
        {
          "output_type": "execute_result",
          "data": {
            "text/plain": [
              "(array([[ 1],\n",
              "        [12],\n",
              "        [ 2],\n",
              "        [16],\n",
              "        [14],\n",
              "        [ 2],\n",
              "        [ 3],\n",
              "        [ 3],\n",
              "        [18],\n",
              "        [12],\n",
              "        [ 5],\n",
              "        [ 2],\n",
              "        [ 4],\n",
              "        [21],\n",
              "        [ 1],\n",
              "        [ 8],\n",
              "        [ 6],\n",
              "        [ 6],\n",
              "        [12],\n",
              "        [ 7],\n",
              "        [12],\n",
              "        [18],\n",
              "        [11],\n",
              "        [15],\n",
              "        [12],\n",
              "        [ 2],\n",
              "        [ 7],\n",
              "        [ 6],\n",
              "        [12],\n",
              "        [ 2],\n",
              "        [ 1],\n",
              "        [16],\n",
              "        [ 5],\n",
              "        [ 6],\n",
              "        [14],\n",
              "        [ 2],\n",
              "        [ 5],\n",
              "        [ 6],\n",
              "        [ 7],\n",
              "        [15],\n",
              "        [18],\n",
              "        [15],\n",
              "        [ 4],\n",
              "        [32],\n",
              "        [15],\n",
              "        [15],\n",
              "        [ 4],\n",
              "        [ 9],\n",
              "        [ 4],\n",
              "        [11],\n",
              "        [ 6],\n",
              "        [11],\n",
              "        [ 7],\n",
              "        [ 2],\n",
              "        [ 7],\n",
              "        [18],\n",
              "        [ 4],\n",
              "        [31],\n",
              "        [ 2],\n",
              "        [21],\n",
              "        [17],\n",
              "        [ 8],\n",
              "        [ 7],\n",
              "        [ 3],\n",
              "        [18],\n",
              "        [13],\n",
              "        [ 1],\n",
              "        [ 3],\n",
              "        [ 2],\n",
              "        [ 8],\n",
              "        [ 6],\n",
              "        [ 3],\n",
              "        [ 4],\n",
              "        [ 2],\n",
              "        [ 2],\n",
              "        [ 3],\n",
              "        [17],\n",
              "        [ 9],\n",
              "        [11],\n",
              "        [11],\n",
              "        [ 1],\n",
              "        [ 1],\n",
              "        [ 3],\n",
              "        [ 6],\n",
              "        [ 3],\n",
              "        [ 1],\n",
              "        [ 1],\n",
              "        [ 1],\n",
              "        [ 6],\n",
              "        [ 6],\n",
              "        [ 7],\n",
              "        [ 8],\n",
              "        [13],\n",
              "        [ 3],\n",
              "        [ 1],\n",
              "        [ 1],\n",
              "        [ 8],\n",
              "        [ 5],\n",
              "        [ 8],\n",
              "        [ 5],\n",
              "        [16],\n",
              "        [ 2],\n",
              "        [ 8]]), array([[ 1],\n",
              "        [ 1],\n",
              "        [ 1],\n",
              "        [ 3],\n",
              "        [ 8],\n",
              "        [ 7],\n",
              "        [18],\n",
              "        [12],\n",
              "        [13],\n",
              "        [ 9],\n",
              "        [ 6],\n",
              "        [ 5],\n",
              "        [ 1],\n",
              "        [11],\n",
              "        [ 6],\n",
              "        [ 2],\n",
              "        [ 6],\n",
              "        [ 1],\n",
              "        [ 6],\n",
              "        [ 6],\n",
              "        [ 8],\n",
              "        [ 7],\n",
              "        [ 6],\n",
              "        [ 7],\n",
              "        [ 4],\n",
              "        [ 7]]))"
            ]
          },
          "metadata": {},
          "execution_count": 104
        }
      ]
    },
    {
      "cell_type": "code",
      "source": [
        "print (train_data.shape)\n",
        "print (test_data.shape)"
      ],
      "metadata": {
        "colab": {
          "base_uri": "https://localhost:8080/"
        },
        "id": "Ynbxkiqib465",
        "outputId": "6142773c-10dd-444f-8789-a247770fb442"
      },
      "execution_count": 98,
      "outputs": [
        {
          "output_type": "stream",
          "name": "stdout",
          "text": [
            "(103, 1)\n",
            "(26, 1)\n"
          ]
        }
      ]
    },
    {
      "cell_type": "code",
      "source": [
        "training_size,test_size"
      ],
      "metadata": {
        "colab": {
          "base_uri": "https://localhost:8080/"
        },
        "id": "Iqg8x1_kcuCn",
        "outputId": "a6396a10-c0ac-41de-a2bf-7c7f9b028696"
      },
      "execution_count": 106,
      "outputs": [
        {
          "output_type": "execute_result",
          "data": {
            "text/plain": [
              "(103, 26)"
            ]
          },
          "metadata": {},
          "execution_count": 106
        }
      ]
    },
    {
      "cell_type": "code",
      "source": [
        "import numpy\n",
        "# convert an array of values into a dataset matrix\n",
        "# mengonversi array nilai menjadi matriks kumpulan data\n",
        "def create_dataset(dataset, time_step=1):\n",
        "  dataX , dataY = [], []\n",
        "  for i in range(len(dataset) - time_step-1):\n",
        "    a = dataset[i:(i+time_step), 0] # i = 0, 0,1,2,3....... 99 100\n",
        "    dataX.append(a)\n",
        "    dataY.append(dataset[i + time_step, 0])\n",
        "  return numpy.array(dataX), numpy.array(dataY)"
      ],
      "metadata": {
        "id": "9WOsWEfvc6VN"
      },
      "execution_count": 114,
      "outputs": []
    },
    {
      "cell_type": "code",
      "source": [
        "time_step=4\n",
        "x_train, y_train = create_dataset(train_data,time_step)\n",
        "x_test, y_test = create_dataset(test_data,time_step)"
      ],
      "metadata": {
        "id": "wv44cBw0eb_R"
      },
      "execution_count": 115,
      "outputs": []
    },
    {
      "cell_type": "code",
      "source": [
        "x_test, y_test"
      ],
      "metadata": {
        "colab": {
          "base_uri": "https://localhost:8080/"
        },
        "id": "oIp5jlXvgT66",
        "outputId": "14f00a80-5494-47e9-a2fa-5f7dd052dc38"
      },
      "execution_count": 118,
      "outputs": [
        {
          "output_type": "execute_result",
          "data": {
            "text/plain": [
              "(array([[ 1,  1,  1,  3,  8],\n",
              "        [ 1,  1,  3,  8,  7],\n",
              "        [ 1,  3,  8,  7, 18],\n",
              "        [ 3,  8,  7, 18, 12],\n",
              "        [ 8,  7, 18, 12, 13],\n",
              "        [ 7, 18, 12, 13,  9],\n",
              "        [18, 12, 13,  9,  6],\n",
              "        [12, 13,  9,  6,  5],\n",
              "        [13,  9,  6,  5,  1],\n",
              "        [ 9,  6,  5,  1, 11],\n",
              "        [ 6,  5,  1, 11,  6],\n",
              "        [ 5,  1, 11,  6,  2],\n",
              "        [ 1, 11,  6,  2,  6],\n",
              "        [11,  6,  2,  6,  1],\n",
              "        [ 6,  2,  6,  1,  6],\n",
              "        [ 2,  6,  1,  6,  6],\n",
              "        [ 6,  1,  6,  6,  8],\n",
              "        [ 1,  6,  6,  8,  7],\n",
              "        [ 6,  6,  8,  7,  6],\n",
              "        [ 6,  8,  7,  6,  7]]),\n",
              " array([ 7, 18, 12, 13,  9,  6,  5,  1, 11,  6,  2,  6,  1,  6,  6,  8,  7,\n",
              "         6,  7,  4]))"
            ]
          },
          "metadata": {},
          "execution_count": 118
        }
      ]
    },
    {
      "cell_type": "code",
      "source": [
        "time_step=5\n",
        "x_train, y_train = create_dataset(train_data,time_step)\n",
        "x_test, y_test = create_dataset(test_data,time_step)"
      ],
      "metadata": {
        "id": "pHCPffPNgeKF"
      },
      "execution_count": 117,
      "outputs": []
    },
    {
      "cell_type": "code",
      "source": [
        "x_test, y_test"
      ],
      "metadata": {
        "colab": {
          "base_uri": "https://localhost:8080/"
        },
        "id": "ERh_J1U0gf9u",
        "outputId": "e4311f68-4c44-4f26-9605-755dd680d70c"
      },
      "execution_count": 119,
      "outputs": [
        {
          "output_type": "execute_result",
          "data": {
            "text/plain": [
              "(array([[ 1,  1,  1,  3,  8],\n",
              "        [ 1,  1,  3,  8,  7],\n",
              "        [ 1,  3,  8,  7, 18],\n",
              "        [ 3,  8,  7, 18, 12],\n",
              "        [ 8,  7, 18, 12, 13],\n",
              "        [ 7, 18, 12, 13,  9],\n",
              "        [18, 12, 13,  9,  6],\n",
              "        [12, 13,  9,  6,  5],\n",
              "        [13,  9,  6,  5,  1],\n",
              "        [ 9,  6,  5,  1, 11],\n",
              "        [ 6,  5,  1, 11,  6],\n",
              "        [ 5,  1, 11,  6,  2],\n",
              "        [ 1, 11,  6,  2,  6],\n",
              "        [11,  6,  2,  6,  1],\n",
              "        [ 6,  2,  6,  1,  6],\n",
              "        [ 2,  6,  1,  6,  6],\n",
              "        [ 6,  1,  6,  6,  8],\n",
              "        [ 1,  6,  6,  8,  7],\n",
              "        [ 6,  6,  8,  7,  6],\n",
              "        [ 6,  8,  7,  6,  7]]),\n",
              " array([ 7, 18, 12, 13,  9,  6,  5,  1, 11,  6,  2,  6,  1,  6,  6,  8,  7,\n",
              "         6,  7,  4]))"
            ]
          },
          "metadata": {},
          "execution_count": 119
        }
      ]
    },
    {
      "cell_type": "code",
      "source": [
        "\n",
        "import tensorflow as tf\n",
        "from tensorflow.keras.models import Sequential\n",
        "from tensorflow.keras.layers import Dense\n",
        "from tensorflow.keras.layers import LSTM\n",
        "from tensorflow.keras.layers import Dropout\n",
        "from sklearn.metrics import mean_squared_error\n",
        "import matplotlib.pyplot as plt\n",
        "#Import Modul yg digunakan/dibutuhkan\n",
        "\n",
        "batch_size = 10 # Penentuan jumlah sample yang ditraining pada tiap epoch\n",
        "num_epochs = 100 # Banyak iterasi pada saat training models\n",
        "\n",
        "model=Sequential()\n",
        "model.add(LSTM(50, activation= 'relu', return_sequences=True,input_shape=(5,1)))\n",
        "model.add(LSTM(50, activation= 'relu', return_sequences=True))\n",
        "model.add(LSTM(50, activation= 'relu'))\n",
        "model.add(Dense(1))\n",
        "\n",
        "model.compile(loss='mean_absolute_error',optimizer='adam')\n",
        "#model.compile(loss=\"mean_absolute_error\", optimizer=tf.keras.optimizers.SGD(lr=1e-5, momentum=0.9),metrics=[\"mean_absolute_error\"])\n",
        "history = model.fit(x_train, y_train, epochs=num_epochs, validation_data=(x_test, y_test))\n",
        "\n",
        "\n"
      ],
      "metadata": {
        "colab": {
          "base_uri": "https://localhost:8080/"
        },
        "id": "GBVra7bNgqAf",
        "outputId": "8a084b3a-25af-4773-a0ba-97fd8b83c92d"
      },
      "execution_count": 139,
      "outputs": [
        {
          "output_type": "stream",
          "name": "stdout",
          "text": [
            "Epoch 1/100\n",
            "4/4 [==============================] - 4s 175ms/step - loss: 7.9080 - val_loss: 6.9271\n",
            "Epoch 2/100\n",
            "4/4 [==============================] - 0s 17ms/step - loss: 7.7991 - val_loss: 6.7956\n",
            "Epoch 3/100\n",
            "4/4 [==============================] - 0s 17ms/step - loss: 7.6084 - val_loss: 6.5371\n",
            "Epoch 4/100\n",
            "4/4 [==============================] - 0s 17ms/step - loss: 7.1869 - val_loss: 6.0030\n",
            "Epoch 5/100\n",
            "4/4 [==============================] - 0s 19ms/step - loss: 6.3561 - val_loss: 5.7111\n",
            "Epoch 6/100\n",
            "4/4 [==============================] - 0s 19ms/step - loss: 5.9029 - val_loss: 5.6045\n",
            "Epoch 7/100\n",
            "4/4 [==============================] - 0s 19ms/step - loss: 5.6727 - val_loss: 5.4688\n",
            "Epoch 8/100\n",
            "4/4 [==============================] - 0s 18ms/step - loss: 5.5902 - val_loss: 5.3839\n",
            "Epoch 9/100\n",
            "4/4 [==============================] - 0s 19ms/step - loss: 5.5523 - val_loss: 5.3009\n",
            "Epoch 10/100\n",
            "4/4 [==============================] - 0s 17ms/step - loss: 5.5138 - val_loss: 5.2457\n",
            "Epoch 11/100\n",
            "4/4 [==============================] - 0s 19ms/step - loss: 5.5524 - val_loss: 5.1503\n",
            "Epoch 12/100\n",
            "4/4 [==============================] - 0s 17ms/step - loss: 5.4081 - val_loss: 5.0064\n",
            "Epoch 13/100\n",
            "4/4 [==============================] - 0s 17ms/step - loss: 5.2920 - val_loss: 4.8979\n",
            "Epoch 14/100\n",
            "4/4 [==============================] - 0s 17ms/step - loss: 5.4495 - val_loss: 4.7837\n",
            "Epoch 15/100\n",
            "4/4 [==============================] - 0s 17ms/step - loss: 5.1541 - val_loss: 4.6752\n",
            "Epoch 16/100\n",
            "4/4 [==============================] - 0s 17ms/step - loss: 5.1547 - val_loss: 4.6278\n",
            "Epoch 17/100\n",
            "4/4 [==============================] - 0s 21ms/step - loss: 5.1889 - val_loss: 4.5430\n",
            "Epoch 18/100\n",
            "4/4 [==============================] - 0s 19ms/step - loss: 5.1154 - val_loss: 4.4008\n",
            "Epoch 19/100\n",
            "4/4 [==============================] - 0s 18ms/step - loss: 5.0412 - val_loss: 4.2772\n",
            "Epoch 20/100\n",
            "4/4 [==============================] - 0s 17ms/step - loss: 5.0787 - val_loss: 4.2599\n",
            "Epoch 21/100\n",
            "4/4 [==============================] - 0s 23ms/step - loss: 4.9658 - val_loss: 4.3939\n",
            "Epoch 22/100\n",
            "4/4 [==============================] - 0s 21ms/step - loss: 5.0681 - val_loss: 4.5201\n",
            "Epoch 23/100\n",
            "4/4 [==============================] - 0s 18ms/step - loss: 5.2102 - val_loss: 4.6104\n",
            "Epoch 24/100\n",
            "4/4 [==============================] - 0s 17ms/step - loss: 5.3100 - val_loss: 4.6791\n",
            "Epoch 25/100\n",
            "4/4 [==============================] - 0s 17ms/step - loss: 5.3319 - val_loss: 4.5551\n",
            "Epoch 26/100\n",
            "4/4 [==============================] - 0s 19ms/step - loss: 5.2456 - val_loss: 4.4377\n",
            "Epoch 27/100\n",
            "4/4 [==============================] - 0s 22ms/step - loss: 5.1558 - val_loss: 4.3045\n",
            "Epoch 28/100\n",
            "4/4 [==============================] - 0s 23ms/step - loss: 5.0202 - val_loss: 4.1689\n",
            "Epoch 29/100\n",
            "4/4 [==============================] - 0s 22ms/step - loss: 4.9376 - val_loss: 4.0922\n",
            "Epoch 30/100\n",
            "4/4 [==============================] - 0s 21ms/step - loss: 5.1440 - val_loss: 4.3162\n",
            "Epoch 31/100\n",
            "4/4 [==============================] - 0s 25ms/step - loss: 5.2738 - val_loss: 4.1153\n",
            "Epoch 32/100\n",
            "4/4 [==============================] - 0s 22ms/step - loss: 5.1256 - val_loss: 4.0348\n",
            "Epoch 33/100\n",
            "4/4 [==============================] - 0s 24ms/step - loss: 5.0396 - val_loss: 4.0675\n",
            "Epoch 34/100\n",
            "4/4 [==============================] - 0s 23ms/step - loss: 5.0220 - val_loss: 4.0831\n",
            "Epoch 35/100\n",
            "4/4 [==============================] - 0s 22ms/step - loss: 4.9438 - val_loss: 4.0928\n",
            "Epoch 36/100\n",
            "4/4 [==============================] - 0s 22ms/step - loss: 4.9378 - val_loss: 4.0905\n",
            "Epoch 37/100\n",
            "4/4 [==============================] - 0s 22ms/step - loss: 4.9429 - val_loss: 4.1071\n",
            "Epoch 38/100\n",
            "4/4 [==============================] - 0s 21ms/step - loss: 4.9420 - val_loss: 4.1283\n",
            "Epoch 39/100\n",
            "4/4 [==============================] - 0s 24ms/step - loss: 4.9125 - val_loss: 4.2084\n",
            "Epoch 40/100\n",
            "4/4 [==============================] - 0s 22ms/step - loss: 4.9230 - val_loss: 4.2024\n",
            "Epoch 41/100\n",
            "4/4 [==============================] - 0s 22ms/step - loss: 4.9256 - val_loss: 4.1534\n",
            "Epoch 42/100\n",
            "4/4 [==============================] - 0s 22ms/step - loss: 4.9275 - val_loss: 4.1039\n",
            "Epoch 43/100\n",
            "4/4 [==============================] - 0s 24ms/step - loss: 5.0148 - val_loss: 4.1841\n",
            "Epoch 44/100\n",
            "4/4 [==============================] - 0s 24ms/step - loss: 5.0740 - val_loss: 4.1342\n",
            "Epoch 45/100\n",
            "4/4 [==============================] - 0s 24ms/step - loss: 5.0029 - val_loss: 4.0859\n",
            "Epoch 46/100\n",
            "4/4 [==============================] - 0s 23ms/step - loss: 4.8917 - val_loss: 4.1880\n",
            "Epoch 47/100\n",
            "4/4 [==============================] - 0s 21ms/step - loss: 4.9468 - val_loss: 4.2822\n",
            "Epoch 48/100\n",
            "4/4 [==============================] - 0s 23ms/step - loss: 5.0029 - val_loss: 4.2636\n",
            "Epoch 49/100\n",
            "4/4 [==============================] - 0s 23ms/step - loss: 4.9938 - val_loss: 4.2950\n",
            "Epoch 50/100\n",
            "4/4 [==============================] - 0s 22ms/step - loss: 5.0411 - val_loss: 4.3497\n",
            "Epoch 51/100\n",
            "4/4 [==============================] - 0s 22ms/step - loss: 5.1218 - val_loss: 4.3914\n",
            "Epoch 52/100\n",
            "4/4 [==============================] - 0s 22ms/step - loss: 5.1015 - val_loss: 4.2945\n",
            "Epoch 53/100\n",
            "4/4 [==============================] - 0s 24ms/step - loss: 4.9793 - val_loss: 4.1406\n",
            "Epoch 54/100\n",
            "4/4 [==============================] - 0s 22ms/step - loss: 4.8988 - val_loss: 4.0764\n",
            "Epoch 55/100\n",
            "4/4 [==============================] - 0s 24ms/step - loss: 4.9098 - val_loss: 4.0757\n",
            "Epoch 56/100\n",
            "4/4 [==============================] - 0s 22ms/step - loss: 5.0163 - val_loss: 4.0766\n",
            "Epoch 57/100\n",
            "4/4 [==============================] - 0s 27ms/step - loss: 4.9723 - val_loss: 4.0317\n",
            "Epoch 58/100\n",
            "4/4 [==============================] - 0s 22ms/step - loss: 4.9157 - val_loss: 4.0331\n",
            "Epoch 59/100\n",
            "4/4 [==============================] - 0s 21ms/step - loss: 4.9173 - val_loss: 4.0402\n",
            "Epoch 60/100\n",
            "4/4 [==============================] - 0s 22ms/step - loss: 4.8969 - val_loss: 4.0425\n",
            "Epoch 61/100\n",
            "4/4 [==============================] - 0s 25ms/step - loss: 4.9611 - val_loss: 4.3176\n",
            "Epoch 62/100\n",
            "4/4 [==============================] - 0s 21ms/step - loss: 5.4073 - val_loss: 4.9347\n",
            "Epoch 63/100\n",
            "4/4 [==============================] - 0s 22ms/step - loss: 5.7405 - val_loss: 4.5472\n",
            "Epoch 64/100\n",
            "4/4 [==============================] - 0s 21ms/step - loss: 5.3068 - val_loss: 4.0415\n",
            "Epoch 65/100\n",
            "4/4 [==============================] - 0s 23ms/step - loss: 4.8753 - val_loss: 3.9628\n",
            "Epoch 66/100\n",
            "4/4 [==============================] - 0s 23ms/step - loss: 4.8538 - val_loss: 4.0539\n",
            "Epoch 67/100\n",
            "4/4 [==============================] - 0s 22ms/step - loss: 4.9776 - val_loss: 4.1383\n",
            "Epoch 68/100\n",
            "4/4 [==============================] - 0s 36ms/step - loss: 5.0253 - val_loss: 4.1316\n",
            "Epoch 69/100\n",
            "4/4 [==============================] - 0s 23ms/step - loss: 5.0104 - val_loss: 4.0931\n",
            "Epoch 70/100\n",
            "4/4 [==============================] - 0s 19ms/step - loss: 4.9501 - val_loss: 3.9587\n",
            "Epoch 71/100\n",
            "4/4 [==============================] - 0s 17ms/step - loss: 4.8775 - val_loss: 3.8794\n",
            "Epoch 72/100\n",
            "4/4 [==============================] - 0s 17ms/step - loss: 4.9671 - val_loss: 3.9232\n",
            "Epoch 73/100\n",
            "4/4 [==============================] - 0s 17ms/step - loss: 5.0349 - val_loss: 3.8879\n",
            "Epoch 74/100\n",
            "4/4 [==============================] - 0s 17ms/step - loss: 4.9868 - val_loss: 3.9187\n",
            "Epoch 75/100\n",
            "4/4 [==============================] - 0s 18ms/step - loss: 4.9511 - val_loss: 3.9340\n",
            "Epoch 76/100\n",
            "4/4 [==============================] - 0s 17ms/step - loss: 4.8954 - val_loss: 3.9827\n",
            "Epoch 77/100\n",
            "4/4 [==============================] - 0s 17ms/step - loss: 4.9444 - val_loss: 3.9988\n",
            "Epoch 78/100\n",
            "4/4 [==============================] - 0s 18ms/step - loss: 4.8997 - val_loss: 3.9822\n",
            "Epoch 79/100\n",
            "4/4 [==============================] - 0s 20ms/step - loss: 4.8473 - val_loss: 3.9777\n",
            "Epoch 80/100\n",
            "4/4 [==============================] - 0s 18ms/step - loss: 4.8471 - val_loss: 3.9675\n",
            "Epoch 81/100\n",
            "4/4 [==============================] - 0s 17ms/step - loss: 4.8827 - val_loss: 4.1414\n",
            "Epoch 82/100\n",
            "4/4 [==============================] - 0s 20ms/step - loss: 5.0625 - val_loss: 4.1466\n",
            "Epoch 83/100\n",
            "4/4 [==============================] - 0s 17ms/step - loss: 4.9813 - val_loss: 4.0273\n",
            "Epoch 84/100\n",
            "4/4 [==============================] - 0s 23ms/step - loss: 4.8988 - val_loss: 4.0079\n",
            "Epoch 85/100\n",
            "4/4 [==============================] - 0s 22ms/step - loss: 4.9340 - val_loss: 4.2081\n",
            "Epoch 86/100\n",
            "4/4 [==============================] - 0s 21ms/step - loss: 5.3155 - val_loss: 4.2942\n",
            "Epoch 87/100\n",
            "4/4 [==============================] - 0s 22ms/step - loss: 5.0912 - val_loss: 3.9196\n",
            "Epoch 88/100\n",
            "4/4 [==============================] - 0s 24ms/step - loss: 4.9995 - val_loss: 4.1210\n",
            "Epoch 89/100\n",
            "4/4 [==============================] - 0s 21ms/step - loss: 5.0305 - val_loss: 4.2093\n",
            "Epoch 90/100\n",
            "4/4 [==============================] - 0s 24ms/step - loss: 5.1491 - val_loss: 4.3115\n",
            "Epoch 91/100\n",
            "4/4 [==============================] - 0s 21ms/step - loss: 5.2433 - val_loss: 4.3651\n",
            "Epoch 92/100\n",
            "4/4 [==============================] - 0s 23ms/step - loss: 5.2150 - val_loss: 4.2178\n",
            "Epoch 93/100\n",
            "4/4 [==============================] - 0s 25ms/step - loss: 5.0553 - val_loss: 4.0773\n",
            "Epoch 94/100\n",
            "4/4 [==============================] - 0s 22ms/step - loss: 4.8969 - val_loss: 3.9913\n",
            "Epoch 95/100\n",
            "4/4 [==============================] - 0s 20ms/step - loss: 4.8360 - val_loss: 3.8876\n",
            "Epoch 96/100\n",
            "4/4 [==============================] - 0s 17ms/step - loss: 4.8689 - val_loss: 3.9402\n",
            "Epoch 97/100\n",
            "4/4 [==============================] - 0s 18ms/step - loss: 5.0714 - val_loss: 3.8668\n",
            "Epoch 98/100\n",
            "4/4 [==============================] - 0s 17ms/step - loss: 4.9310 - val_loss: 3.8007\n",
            "Epoch 99/100\n",
            "4/4 [==============================] - 0s 18ms/step - loss: 4.8283 - val_loss: 3.9579\n",
            "Epoch 100/100\n",
            "4/4 [==============================] - 0s 20ms/step - loss: 4.8457 - val_loss: 3.9842\n"
          ]
        }
      ]
    },
    {
      "cell_type": "code",
      "source": [
        "model.summary()\n"
      ],
      "metadata": {
        "colab": {
          "base_uri": "https://localhost:8080/"
        },
        "id": "OoxUuygrqH9r",
        "outputId": "9e214581-6f0b-47cf-bd07-c333b10d2e9c"
      },
      "execution_count": 140,
      "outputs": [
        {
          "output_type": "stream",
          "name": "stdout",
          "text": [
            "Model: \"sequential_16\"\n",
            "_________________________________________________________________\n",
            " Layer (type)                Output Shape              Param #   \n",
            "=================================================================\n",
            " lstm_48 (LSTM)              (None, 5, 50)             10400     \n",
            "                                                                 \n",
            " lstm_49 (LSTM)              (None, 5, 50)             20200     \n",
            "                                                                 \n",
            " lstm_50 (LSTM)              (None, 50)                20200     \n",
            "                                                                 \n",
            " dense_16 (Dense)            (None, 1)                 51        \n",
            "                                                                 \n",
            "=================================================================\n",
            "Total params: 50,851\n",
            "Trainable params: 50,851\n",
            "Non-trainable params: 0\n",
            "_________________________________________________________________\n"
          ]
        }
      ]
    },
    {
      "cell_type": "code",
      "source": [
        "plt.plot(history.history['loss'], label = 'train')\n",
        "plt.plot(history.history['val_loss'], label = 'validation')\n",
        "plt.legend()"
      ],
      "metadata": {
        "colab": {
          "base_uri": "https://localhost:8080/",
          "height": 282
        },
        "id": "CBAJx7MbqIAH",
        "outputId": "98d4844c-b5cf-411f-8224-7813bfd84910"
      },
      "execution_count": 144,
      "outputs": [
        {
          "output_type": "execute_result",
          "data": {
            "text/plain": [
              "<matplotlib.legend.Legend at 0x7f6e78835be0>"
            ]
          },
          "metadata": {},
          "execution_count": 144
        },
        {
          "output_type": "display_data",
          "data": {
            "text/plain": [
              "<Figure size 432x288 with 1 Axes>"
            ],
            "image/png": "[encoded data removed]"
          },
          "metadata": {
            "needs_background": "light"
          }
        }
      ]
    },
    {
      "cell_type": "code",
      "source": [
        "train_predict=model.predict(x_train)#Nilai Observasi\n",
        "test_predict=model.predict(x_test)#Nilai Prediksi\n",
        "\n",
        "from sklearn.metrics import  mean_absolute_error\n",
        "mae_train=mean_squared_error(y_train, train_predict)\n",
        "print(mae_train)\n",
        "\n",
        "mae_test=mean_squared_error(y_test, test_predict)\n",
        "print(mae_test)\n",
        "mae=mean_absolute_error(y_test,test_predict)\n",
        "print(mae)"
      ],
      "metadata": {
        "colab": {
          "base_uri": "https://localhost:8080/"
        },
        "id": "yFuyE1FGqx1Z",
        "outputId": "5898bdbd-871e-4684-8140-1b58a29b9a3b"
      },
      "execution_count": 145,
      "outputs": [
        {
          "output_type": "stream",
          "name": "stdout",
          "text": [
            "4/4 [==============================] - 1s 6ms/step\n",
            "1/1 [==============================] - 0s 25ms/step\n",
            "46.98401530297254\n",
            "27.968692090229162\n",
            "3.984231835603714\n"
          ]
        }
      ]
    },
    {
      "cell_type": "code",
      "source": [
        "xts=[[46.8,27.2,40.1,30.6,74.4]]\n",
        "prediksi=model.predict(xts)\n",
        "print(prediksi)"
      ],
      "metadata": {
        "colab": {
          "base_uri": "https://localhost:8080/"
        },
        "id": "mEe-on2Zq7Jt",
        "outputId": "a56b295b-c8d0-4a20-a02e-1287dcbe2cf1"
      },
      "execution_count": 159,
      "outputs": [
        {
          "output_type": "stream",
          "name": "stdout",
          "text": [
            "1/1 [==============================] - 0s 39ms/step\n",
            "[[15.531256]]\n"
          ]
        }
      ]
    },
    {
      "cell_type": "code",
      "source": [
        "xts2=[[16.8,6.2,13.1,15.6,1.4]]\n",
        "prediksi=model.predict(xts2)\n",
        "print(prediksi)"
      ],
      "metadata": {
        "colab": {
          "base_uri": "https://localhost:8080/"
        },
        "id": "AI5_NVC-tAYO",
        "outputId": "9b3634cf-27df-4ffe-cff8-cc2c3c64287d"
      },
      "execution_count": 158,
      "outputs": [
        {
          "output_type": "stream",
          "name": "stdout",
          "text": [
            "1/1 [==============================] - 0s 41ms/step\n",
            "[[6.8026214]]\n"
          ]
        }
      ]
    },
    {
      "cell_type": "code",
      "source": [
        "xts3=[[71.81,28.2,16.1,15.6,10.4]]\n",
        "prediksi=model.predict(xts3)\n",
        "print(prediksi)"
      ],
      "metadata": {
        "colab": {
          "base_uri": "https://localhost:8080/"
        },
        "id": "yNHEOj0htYrJ",
        "outputId": "20912d69-b420-45c5-c16c-95adef049de5"
      },
      "execution_count": 163,
      "outputs": [
        {
          "output_type": "stream",
          "name": "stdout",
          "text": [
            "1/1 [==============================] - 0s 44ms/step\n",
            "[[5.805096]]\n"
          ]
        }
      ]
    },
    {
      "cell_type": "code",
      "source": [
        "xts4=[[1.8,0.2,18.1,19.6,12.4]]\n",
        "prediksi=model.predict(xts4)\n",
        "print(prediksi)"
      ],
      "metadata": {
        "colab": {
          "base_uri": "https://localhost:8080/"
        },
        "id": "df4udF1uthfn",
        "outputId": "6ee7fa74-af42-4d9b-8425-a0364a2cdb51"
      },
      "execution_count": 156,
      "outputs": [
        {
          "output_type": "stream",
          "name": "stdout",
          "text": [
            "1/1 [==============================] - 0s 34ms/step\n",
            "[[3.966541]]\n"
          ]
        }
      ]
    },
    {
      "cell_type": "code",
      "source": [
        "xts5=[[61.8,69.2,13.1,51.6,18.4]]\n",
        "prediksi=model.predict(xts5)\n",
        "print(prediksi)"
      ],
      "metadata": {
        "colab": {
          "base_uri": "https://localhost:8080/"
        },
        "id": "53LnLRhtuRv8",
        "outputId": "428c1c20-dc2c-4292-deb6-edf9c582dcdb"
      },
      "execution_count": 164,
      "outputs": [
        {
          "output_type": "stream",
          "name": "stdout",
          "text": [
            "1/1 [==============================] - 0s 93ms/step\n",
            "[[12.108292]]\n"
          ]
        }
      ]
    },
    {
      "cell_type": "code",
      "source": [
        "data=[[15,6,5,3,12]]\n",
        "prediksi=model.predict(data)\n",
        "print(prediksi)"
      ],
      "metadata": {
        "colab": {
          "base_uri": "https://localhost:8080/"
        },
        "id": "7kEq_30BtKep",
        "outputId": "60849902-239f-44f2-d8b5-b248f21d22e3"
      },
      "execution_count": 165,
      "outputs": [
        {
          "output_type": "stream",
          "name": "stdout",
          "text": [
            "1/1 [==============================] - 0s 31ms/step\n",
            "[[6.065102]]\n"
          ]
        }
      ]
    }
  ]
}